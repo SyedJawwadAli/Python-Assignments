{
 "cells": [
  {
   "cell_type": "code",
   "execution_count": 1,
   "metadata": {},
   "outputs": [
    {
     "name": "stdout",
     "output_type": "stream",
     "text": [
      "Enter Marks in Subject 1 : 25\n",
      "Enter Marks in Subject 2 : 25\n",
      "Enter Marks in Subject 3 : 25\n",
      "Enter Marks in Subject 4 : 25\n",
      "Enter Marks in Subject 5 : 25\n",
      "Percentage :  25.0\n",
      "Grade : F\n"
     ]
    }
   ],
   "source": [
    "Sub_1 = int(input(\"Enter Marks in Subject 1 : \"))\n",
    "Sub_2 = int(input(\"Enter Marks in Subject 2 : \"))\n",
    "Sub_3 = int(input(\"Enter Marks in Subject 3 : \"))\n",
    "Sub_4 = int(input(\"Enter Marks in Subject 4 : \"))\n",
    "Sub_5 = int(input(\"Enter Marks in Subject 5 : \"))\n",
    "Total = ( Sub_1 + Sub_2 + Sub_3 + Sub_4 + Sub_5 )*100/500\n",
    "print(\"Percentage : \", Total)\n",
    "if Total >= 80 and Total <= 100 :\n",
    "    print(\"Grade : \" + \"A+\")\n",
    "elif Total >= 70 and Total < 80 :\n",
    "    print(\"Grade : \" + \"A\")\n",
    "elif Total >= 60 and Total < 70 :\n",
    "    print(\"Grade : \" + \"B\")\n",
    "elif Total >= 50 and Total < 60 :\n",
    "    print(\"Grade : \" + \"C\")\n",
    "elif Total >= 40 and Total < 50 :\n",
    "    print(\"Grade : \" + \"D\")\n",
    "elif Total >= 33 and Total < 40 :\n",
    "    print(\"Grade : \" + \"E\")\n",
    "else :\n",
    "    print(\"Grade : \" + \"F\")"
   ]
  },
  {
   "cell_type": "code",
   "execution_count": 2,
   "metadata": {},
   "outputs": [
    {
     "name": "stdout",
     "output_type": "stream",
     "text": [
      "Enter a Number : 2\n",
      "This is an Even Number.\n"
     ]
    }
   ],
   "source": [
    "num = int(input(\"Enter a Number : \"))\n",
    "mod = num % 2\n",
    "if mod > 0 :\n",
    "    print(\"This is an Odd Number.\")\n",
    "else:\n",
    "    print(\"This is an Even Number.\")"
   ]
  },
  {
   "cell_type": "code",
   "execution_count": 3,
   "metadata": {},
   "outputs": [
    {
     "name": "stdout",
     "output_type": "stream",
     "text": [
      "The Length of List(z) is :  5\n"
     ]
    }
   ],
   "source": [
    "z = [ 2 , 4 , 6 , 8 , 10 ]\n",
    "print(\"The Length of List(z) is : \", len(z))"
   ]
  },
  {
   "cell_type": "code",
   "execution_count": 4,
   "metadata": {},
   "outputs": [
    {
     "name": "stdout",
     "output_type": "stream",
     "text": [
      "75\n"
     ]
    }
   ],
   "source": [
    "def sum_list(items):\n",
    "    sum_numbers = 0\n",
    "    for x in items:\n",
    "        sum_numbers += x\n",
    "    return sum_numbers\n",
    "print(sum_list([ 5 , 10 , 15 , 20 , 25 ]))"
   ]
  },
  {
   "cell_type": "code",
   "execution_count": 5,
   "metadata": {},
   "outputs": [
    {
     "name": "stdout",
     "output_type": "stream",
     "text": [
      "25\n"
     ]
    }
   ],
   "source": [
    "def max_num_in_list( list ):\n",
    "    max = list[ 0 ]\n",
    "    for y in list:\n",
    "        if y > max:\n",
    "            max = y\n",
    "    return max\n",
    "print(max_num_in_list([ 5 , 10 , 15 , 20 , 25 ]))"
   ]
  },
  {
   "cell_type": "code",
   "execution_count": 6,
   "metadata": {},
   "outputs": [
    {
     "name": "stdout",
     "output_type": "stream",
     "text": [
      "0\n",
      "1\n",
      "2\n",
      "3\n",
      "4\n"
     ]
    }
   ],
   "source": [
    "a = [ 0 , 1 , 2 , 3 , 4 , 5 , 6 , 7 , 8 , 9 ]\n",
    "def print_less_than_five() :\n",
    "    for b in range(len(a)) :\n",
    "        if a[b] <5 :\n",
    "            print(a[b])\n",
    "for b in a :\n",
    "        if b<5 :\n",
    "            print(b)"
   ]
  },
  {
   "cell_type": "code",
   "execution_count": null,
   "metadata": {},
   "outputs": [],
   "source": []
  }
 ],
 "metadata": {
  "kernelspec": {
   "display_name": "Python 3",
   "language": "python",
   "name": "python3"
  },
  "language_info": {
   "codemirror_mode": {
    "name": "ipython",
    "version": 3
   },
   "file_extension": ".py",
   "mimetype": "text/x-python",
   "name": "python",
   "nbconvert_exporter": "python",
   "pygments_lexer": "ipython3",
   "version": "3.7.4"
  }
 },
 "nbformat": 4,
 "nbformat_minor": 2
}
