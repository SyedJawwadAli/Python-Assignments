{
 "cells": [
  {
   "cell_type": "code",
   "execution_count": 1,
   "metadata": {},
   "outputs": [
    {
     "name": "stdout",
     "output_type": "stream",
     "text": [
      "Syed\n",
      "Ali\n",
      "25\n",
      "Karachi\n",
      "{'first_name': 'Syed', 'last_name': 'Ali', 'age': '25', 'city': 'Karachi', 'qualification': 'Matriculation'}\n",
      "{'first_name': 'Syed', 'last_name': 'Ali', 'age': '25', 'city': 'Karachi', 'qualification': 'PHD'}\n",
      "{'first_name': 'Syed', 'last_name': 'Ali', 'age': '25', 'city': 'Karachi'}\n"
     ]
    }
   ],
   "source": [
    "person = {\n",
    "    \"first_name\" : \"Syed\" ,\n",
    "    \"last_name\" : \"Ali\" ,\n",
    "    \"age\" : \"25\" ,\n",
    "    \"city\" : \"Karachi\"\n",
    "}\n",
    "\n",
    "for p in person.values() :\n",
    "    print(p)\n",
    "\n",
    "person[\"qualification\"] = \"Matriculation\"\n",
    "print(person)\n",
    "\n",
    "person[\"qualification\"] = \"PHD\"\n",
    "print(person)\n",
    "\n",
    "del person[\"qualification\"]\n",
    "print(person)"
   ]
  },
  {
   "cell_type": "code",
   "execution_count": 2,
   "metadata": {},
   "outputs": [
    {
     "name": "stdout",
     "output_type": "stream",
     "text": [
      "Islamabad\n",
      "Lahore\n",
      "Karachi\n",
      "{'country': 'Pakistan', 'population': '1.0 Million', 'fact': 'Capital Of Pakistan'}\n",
      "{'country': 'Pakistan', 'population': '10.2 Million', 'fact': 'Heart of Pakistan'}\n",
      "{'country': 'Pakistan', 'population': '20.5 Million', 'fact': 'Mini Pakistan'}\n"
     ]
    }
   ],
   "source": [
    "cities = {\n",
    "    \"Islamabad\" : {\n",
    "        \"country\" : \"Pakistan\",\n",
    "        \"population\" : \"1.0 Million\",\n",
    "        \"fact\" : \"Capital Of Pakistan\"\n",
    "    },\n",
    "    \"Lahore\" : {\n",
    "        \"country\" : \"Pakistan\",\n",
    "        \"population\" : \"10.2 Million\",\n",
    "        \"fact\" : \"Heart of Pakistan\"\n",
    "    },\n",
    "    \"Karachi\" : {\n",
    "        \"country\" : \"Pakistan\",\n",
    "        \"population\" : \"20.5 Million\",\n",
    "        \"fact\" : \"Mini Pakistan\"\n",
    "    }\n",
    "}\n",
    "for a in cities.keys() :\n",
    "    print(a)\n",
    "for b in cities.values() :\n",
    "    print(b)"
   ]
  },
  {
   "cell_type": "code",
   "execution_count": 3,
   "metadata": {},
   "outputs": [
    {
     "name": "stdout",
     "output_type": "stream",
     "text": [
      "One Of My Favorite Book is  Aladdin\n"
     ]
    }
   ],
   "source": [
    "def favorite_book(title) :\n",
    "    print(\"One Of My Favorite Book is \", title)\n",
    "\n",
    "favorite_book(\"Aladdin\")"
   ]
  },
  {
   "cell_type": "code",
   "execution_count": 5,
   "metadata": {},
   "outputs": [
    {
     "name": "stdout",
     "output_type": "stream",
     "text": [
      "Enter Number : 10\n",
      "Your Number is Greater\n",
      "Try Again !!!\n",
      "\n",
      "Enter Number : 5\n",
      "Congratulations\n",
      "***** Correct Answer *****\n",
      "\n"
     ]
    }
   ],
   "source": [
    "import random\n",
    "a = random.randint( 1 , 30 )\n",
    "for b in range(3) :\n",
    "    c = int(input(\"Enter Number : \"))\n",
    "    if c == a :\n",
    "        print(\"Congratulations\\n***** Correct Answer *****\\n\")\n",
    "        break\n",
    "    elif c > a :\n",
    "        print(\"Your Number is Greater\\nTry Again !!!\\n\")\n",
    "    elif c < a :\n",
    "        print(\"Your Number is Smaller\\nTry Again !!!\\n\")\n",
    "\n",
    "else :\n",
    "    print(\"*** Sorry ***\\nWrong Answer !!!\")"
   ]
  },
  {
   "cell_type": "code",
   "execution_count": null,
   "metadata": {},
   "outputs": [
    {
     "name": "stdout",
     "output_type": "stream",
     "text": [
      "Enter Your Age : 2\n",
      "Free Ticket\n",
      "\n",
      "Enter Your Age : 5\n",
      "Ticket Price : 10 $\n",
      "\n",
      "Enter Your Age : 25\n",
      "Ticket Price : 15 $\n",
      "\n"
     ]
    }
   ],
   "source": [
    "while 1 :\n",
    "    age = int(input(\"Enter Your Age : \"))\n",
    "    if age <= 3 :\n",
    "        print(\"Free Ticket\\n\")\n",
    "    elif 3 <= age <= 12 :\n",
    "        print(\"Ticket Price : 10 $\\n\")\n",
    "    elif age >= 12 :\n",
    "        print(\"Ticket Price : 15 $\\n\")"
   ]
  },
  {
   "cell_type": "code",
   "execution_count": null,
   "metadata": {},
   "outputs": [],
   "source": []
  }
 ],
 "metadata": {
  "kernelspec": {
   "display_name": "Python 3",
   "language": "python",
   "name": "python3"
  },
  "language_info": {
   "codemirror_mode": {
    "name": "ipython",
    "version": 3
   },
   "file_extension": ".py",
   "mimetype": "text/x-python",
   "name": "python",
   "nbconvert_exporter": "python",
   "pygments_lexer": "ipython3",
   "version": "3.7.4"
  }
 },
 "nbformat": 4,
 "nbformat_minor": 2
}
