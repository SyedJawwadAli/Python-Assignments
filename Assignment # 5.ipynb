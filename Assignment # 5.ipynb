{
 "cells": [
  {
   "cell_type": "code",
   "execution_count": 1,
   "metadata": {},
   "outputs": [
    {
     "name": "stdout",
     "output_type": "stream",
     "text": [
      "Factorial : 120\n"
     ]
    }
   ],
   "source": [
    "def factorial (n) :\n",
    "    if n == 0 :\n",
    "        return 1\n",
    "    else:\n",
    "        return n * factorial (n-1)\n",
    "\n",
    "print(\"Factorial :\", factorial(5))"
   ]
  },
  {
   "cell_type": "code",
   "execution_count": 2,
   "metadata": {},
   "outputs": [
    {
     "name": "stdout",
     "output_type": "stream",
     "text": [
      "No. Of Upper Case Letters : 1\n",
      "No. Of Lower Case Letters : 5\n"
     ]
    }
   ],
   "source": [
    "def string (s) :\n",
    "    a = { \"x\" : 0 , \"y\" : 0 }\n",
    "    for b in s :\n",
    "        if b.isupper () :\n",
    "            a[\"x\"] += 1\n",
    "        elif b.islower () :\n",
    "            a[\"y\"] += 1\n",
    "        else :\n",
    "            pass\n",
    "    print(\"No. Of Upper Case Letters :\", a[\"x\"])\n",
    "    print(\"No. Of Lower Case Letters :\", a[\"y\"])\n",
    "\n",
    "string(\"String\")"
   ]
  },
  {
   "cell_type": "code",
   "execution_count": 3,
   "metadata": {},
   "outputs": [
    {
     "name": "stdout",
     "output_type": "stream",
     "text": [
      "Even Numbers : [0, 2, 4, 6, 8]\n"
     ]
    }
   ],
   "source": [
    "def even_num ( l = [ 0 , 1 , 2 , 3 , 4 , 5 , 6 , 7 , 8 , 9 ] ) :\n",
    "    e = []\n",
    "    for n in l :\n",
    "        if n % 2 == 0 :\n",
    "            e.append (n)\n",
    "    return e\n",
    "\n",
    "print(\"Even Numbers :\", even_num())"
   ]
  },
  {
   "cell_type": "code",
   "execution_count": 4,
   "metadata": {},
   "outputs": [
    {
     "name": "stdout",
     "output_type": "stream",
     "text": [
      "It is Not a Prime Number.\n"
     ]
    }
   ],
   "source": [
    "def check_prime (p = 6) :\n",
    "    if p > 1 :\n",
    "        for i in range(2 , p) :  \n",
    "            if (p % i) == 0:  \n",
    "                print(\"It is Not a Prime Number.\")\n",
    "                break  \n",
    "        else :  \n",
    "            print(\"It is a Prime Number.\")\n",
    "check_prime()"
   ]
  },
  {
   "cell_type": "code",
   "execution_count": 5,
   "metadata": {},
   "outputs": [
    {
     "name": "stdout",
     "output_type": "stream",
     "text": [
      "The string is a palindrome.\n"
     ]
    }
   ],
   "source": [
    "def check_string (s) :\n",
    "    s = s.casefold ()\n",
    "    st = reversed (s)\n",
    "    if list (s) == list (st) :\n",
    "        print(\"The string is a palindrome.\")\n",
    "    else :\n",
    "        print(\"The string is not a palindrome.\")\n",
    "\n",
    "check_string(\"Madam\")"
   ]
  },
  {
   "cell_type": "code",
   "execution_count": 6,
   "metadata": {},
   "outputs": [
    {
     "name": "stdout",
     "output_type": "stream",
     "text": [
      "Shopping List :\n",
      "\n",
      "-> Fish\n",
      "-> Chicken\n",
      "-> Beef\n",
      "-> Mutton\n",
      "-> Fruits\n",
      "-> Vegetables\n"
     ]
    }
   ],
   "source": [
    "def customer (*items) :\n",
    "    print(\"Shopping List :\\n\")\n",
    "    for i in items :\n",
    "        print(i)\n",
    "\n",
    "customer(\"-> Fish\",\"-> Chicken\",\"-> Beef\",\"-> Mutton\",\"-> Fruits\",\"-> Vegetables\")"
   ]
  },
  {
   "cell_type": "code",
   "execution_count": null,
   "metadata": {},
   "outputs": [],
   "source": []
  }
 ],
 "metadata": {
  "kernelspec": {
   "display_name": "Python 3",
   "language": "python",
   "name": "python3"
  },
  "language_info": {
   "codemirror_mode": {
    "name": "ipython",
    "version": 3
   },
   "file_extension": ".py",
   "mimetype": "text/x-python",
   "name": "python",
   "nbconvert_exporter": "python",
   "pygments_lexer": "ipython3",
   "version": "3.7.4"
  }
 },
 "nbformat": 4,
 "nbformat_minor": 2
}
