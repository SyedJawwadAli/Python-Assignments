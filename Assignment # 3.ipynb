{
 "cells": [
  {
   "cell_type": "code",
   "execution_count": 1,
   "metadata": {},
   "outputs": [
    {
     "name": "stdout",
     "output_type": "stream",
     "text": [
      "Enter 1st Value : 5\n",
      "Enter 2nd Value : 2\n",
      "Enter Function : **\n",
      "Answer : 25\n"
     ]
    }
   ],
   "source": [
    "value_1 = int(input(\"Enter 1st Value : \"))\n",
    "value_2 = int(input(\"Enter 2nd Value : \"))\n",
    "function = input(\"Enter Function : \")\n",
    "if function == \"/\" :\n",
    "    print(\"Answer : \" + str( value_1  /  value_2 ))\n",
    "elif function == \"*\" :\n",
    "    print(\"Answer : \" + str( value_1  *  value_2 ))\n",
    "elif function == \"+\" :\n",
    "    print(\"Answer : \" + str( value_1  +  value_2 ))\n",
    "elif function == \"-\" :\n",
    "    print(\"Answer : \" + str( value_1  -  value_2 ))\n",
    "elif function == \"**\" :\n",
    "    print(\"Answer : \" + str( value_1  **  value_2 ))\n",
    "else :\n",
    "    print(\"Syntax Error !!!\")"
   ]
  },
  {
   "cell_type": "code",
   "execution_count": 2,
   "metadata": {},
   "outputs": [
    {
     "name": "stdout",
     "output_type": "stream",
     "text": [
      "Numeric Value is Present in My List.\n"
     ]
    }
   ],
   "source": [
    "my_list = [ 1 , \"Syed\" , 2 , \"Jawwad\" , 5 , \"Ali\" ]\n",
    "chk = False\n",
    "for a in my_list :\n",
    "    if type (a) == int :\n",
    "        chk = True\n",
    "if chk == True :\n",
    "    print(\"Numeric Value is Present in My List.\")\n",
    "else :\n",
    "    print(\"Numeric Value is Not Present in My List.\")"
   ]
  },
  {
   "cell_type": "code",
   "execution_count": 3,
   "metadata": {},
   "outputs": [
    {
     "name": "stdout",
     "output_type": "stream",
     "text": [
      "{'First_Name': 'Syed', 'Middle_Name': 'Jawwad', 'Last_Name': 'Ali'}\n"
     ]
    }
   ],
   "source": [
    "my_name = { \"First_Name\" : \"Syed\" ,\n",
    "          \"Middle_Name\" : \"Jawwad\" }\n",
    "my_name[\"Last_Name\"] = \"Ali\"\n",
    "print(my_name)"
   ]
  },
  {
   "cell_type": "code",
   "execution_count": 4,
   "metadata": {},
   "outputs": [
    {
     "name": "stdout",
     "output_type": "stream",
     "text": [
      "25\n"
     ]
    }
   ],
   "source": [
    "num = { \"Item_1\" : 5 ,\n",
    "        \"Item_2\" : 5 ,\n",
    "        \"Item_3\" : 5 ,\n",
    "        \"Item_4\" : 5 ,\n",
    "        \"Item_5\" : 5 }\n",
    "print(sum(num.values()))"
   ]
  },
  {
   "cell_type": "code",
   "execution_count": 5,
   "metadata": {},
   "outputs": [
    {
     "name": "stdout",
     "output_type": "stream",
     "text": [
      "There is No Duplicate Values.\n"
     ]
    }
   ],
   "source": [
    "a = [ 0 , 1 , 2 , 3 , 4 ]\n",
    "b = []\n",
    "chk = False\n",
    "for d in a :\n",
    "    if a.count(d) > 1 :\n",
    "        b.append(d)\n",
    "        chk = True\n",
    "c = set(b)\n",
    "if chk == True :\n",
    "    print(\"Duplicate Values :\" , c )\n",
    "else :\n",
    "    print(\"There is No Duplicate Values.\")"
   ]
  },
  {
   "cell_type": "code",
   "execution_count": 6,
   "metadata": {},
   "outputs": [
    {
     "name": "stdout",
     "output_type": "stream",
     "text": [
      "Key Exist in My Dictionary.\n",
      "Key Doesn't Exist in My Dictionary.\n"
     ]
    }
   ],
   "source": [
    "my_dictionary = { 1 : 10 ,\n",
    "                  2 : 20 ,\n",
    "                  3 : 30 ,\n",
    "                  4 : 40 ,\n",
    "                  5 : 50 }\n",
    "def is_key_present(x) :\n",
    "    if x in my_dictionary :\n",
    "        print(\"Key Exist in My Dictionary.\")\n",
    "    else:\n",
    "        print(\"Key Doesn't Exist in My Dictionary.\")\n",
    "is_key_present(5)\n",
    "is_key_present(9)"
   ]
  },
  {
   "cell_type": "code",
   "execution_count": null,
   "metadata": {},
   "outputs": [],
   "source": []
  }
 ],
 "metadata": {
  "kernelspec": {
   "display_name": "Python 3",
   "language": "python",
   "name": "python3"
  },
  "language_info": {
   "codemirror_mode": {
    "name": "ipython",
    "version": 3
   },
   "file_extension": ".py",
   "mimetype": "text/x-python",
   "name": "python",
   "nbconvert_exporter": "python",
   "pygments_lexer": "ipython3",
   "version": "3.7.4"
  }
 },
 "nbformat": 4,
 "nbformat_minor": 2
}
